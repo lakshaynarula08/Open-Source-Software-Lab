{
  "nbformat": 4,
  "nbformat_minor": 0,
  "metadata": {
    "colab": {
      "name": "9918103075_OSS LAB ASSIGNMENT-6.ipynb",
      "provenance": [],
      "collapsed_sections": [],
      "authorship_tag": "ABX9TyN5U3ujxsjrb8Mp3WWvVgYN",
      "include_colab_link": true
    },
    "kernelspec": {
      "name": "python3",
      "display_name": "Python 3"
    },
    "language_info": {
      "name": "python"
    }
  },
  "cells": [
    {
      "cell_type": "markdown",
      "metadata": {
        "id": "view-in-github",
        "colab_type": "text"
      },
      "source": [
        "<a href=\"https://colab.research.google.com/github/lakshaynarula08/Open-Source-Software-Lab/blob/main/9918103075_OSS_LAB_ASSIGNMENT_6.ipynb\" target=\"_parent\"><img src=\"https://colab.research.google.com/assets/colab-badge.svg\" alt=\"Open In Colab\"/></a>"
      ]
    },
    {
      "cell_type": "code",
      "metadata": {
        "id": "2VJngPhxT1CM"
      },
      "source": [
        "from scipy import cluster"
      ],
      "execution_count": 1,
      "outputs": []
    },
    {
      "cell_type": "code",
      "metadata": {
        "id": "_JwoNYoUT_7i"
      },
      "source": [
        "from scipy import constants\n",
        "from scipy import fftpack\n",
        "from scipy import integrate\n",
        "from scipy import interpolate\n",
        "from scipy import io\n",
        "from scipy import linalg\n",
        "from scipy import ndimage\n",
        "from scipy import odr\n",
        "from scipy import optimize\n",
        "from scipy import signal\n",
        "from scipy import sparse\n",
        "from scipy import spatial\n",
        "from scipy import special\n",
        "from scipy import stats"
      ],
      "execution_count": 3,
      "outputs": []
    },
    {
      "cell_type": "markdown",
      "metadata": {
        "id": "2s5YQr00VpNa"
      },
      "source": [
        "**Q1**"
      ]
    },
    {
      "cell_type": "code",
      "metadata": {
        "colab": {
          "base_uri": "https://localhost:8080/"
        },
        "id": "BIaCjIdoVoyi",
        "outputId": "742a10bc-78be-44a2-b225-52ff195cafc6"
      },
      "source": [
        "\n",
        "import numpy as np\n",
        "from scipy import io as sio\n",
        "ar = np.ones((4, 4))\n",
        "sio.savemat('test.txt', {'arr': ar}) \n",
        "data = sio.loadmat('test.txt', struct_as_record=True)\n",
        "data['arr']"
      ],
      "execution_count": 18,
      "outputs": [
        {
          "output_type": "execute_result",
          "data": {
            "text/plain": [
              "array([[1., 1., 1., 1.],\n",
              "       [1., 1., 1., 1.],\n",
              "       [1., 1., 1., 1.],\n",
              "       [1., 1., 1., 1.]])"
            ]
          },
          "metadata": {
            "tags": []
          },
          "execution_count": 18
        }
      ]
    },
    {
      "cell_type": "markdown",
      "metadata": {
        "id": "EmXmioFHVl3V"
      },
      "source": [
        "**Q2**"
      ]
    },
    {
      "cell_type": "code",
      "metadata": {
        "colab": {
          "base_uri": "https://localhost:8080/"
        },
        "id": "LmaO6L3DVJOa",
        "outputId": "e25aae55-d2a3-43a9-cb89-e0c21baf9610"
      },
      "source": [
        "from scipy.special import cbrt \n",
        "x=[64, 891 , 27]  \n",
        "r=cbrt(x)     \n",
        "n=0\n",
        "for i in r:\n",
        "    print(\"The cube root of\",x[n],\":\",i)\n",
        "    n=n+1\n",
        "print(r)"
      ],
      "execution_count": 5,
      "outputs": [
        {
          "output_type": "stream",
          "text": [
            "The cube root of 64 : 4.0\n",
            "The cube root of 891 : 9.62260298998748\n",
            "The cube root of 27 : 3.0\n",
            "[4.         9.62260299 3.        ]\n"
          ],
          "name": "stdout"
        }
      ]
    },
    {
      "cell_type": "markdown",
      "metadata": {
        "id": "Yl9WHTt6VtkA"
      },
      "source": [
        "**Q3**"
      ]
    },
    {
      "cell_type": "code",
      "metadata": {
        "colab": {
          "base_uri": "https://localhost:8080/"
        },
        "id": "ygso9Op-Vdw2",
        "outputId": "ec153dd2-becc-443c-991b-34d7769d5e82"
      },
      "source": [
        "from scipy import linalg\n",
        "import numpy as np\n",
        "arr = np.array([ [4,5], [3,2] ])\n",
        "linalg.inv( arr )"
      ],
      "execution_count": 17,
      "outputs": [
        {
          "output_type": "execute_result",
          "data": {
            "text/plain": [
              "array([[-0.28571429,  0.71428571],\n",
              "       [ 0.42857143, -0.57142857]])"
            ]
          },
          "metadata": {
            "tags": []
          },
          "execution_count": 17
        }
      ]
    },
    {
      "cell_type": "markdown",
      "metadata": {
        "id": "M6ROtDonVwAv"
      },
      "source": [
        "**Q4**"
      ]
    },
    {
      "cell_type": "code",
      "metadata": {
        "colab": {
          "base_uri": "https://localhost:8080/"
        },
        "id": "ETqKoAm4VxOj",
        "outputId": "507835b2-b354-44fe-fdcc-bb75a49de5a8"
      },
      "source": [
        "from scipy import linalg\n",
        "import numpy as np\n",
        "arr = np.array([[5,4],[6,3]])\n",
        "val, vect = linalg.eig(arr)\n",
        "print('eigen values:    ')\n",
        "print(val)\n",
        "print('eigen vectors:   ')\n",
        "print(vect)"
      ],
      "execution_count": 16,
      "outputs": [
        {
          "output_type": "stream",
          "text": [
            "eigen values:    \n",
            "[ 9.+0.j -1.+0.j]\n",
            "eigen vectors:   \n",
            "[[ 0.70710678 -0.5547002 ]\n",
            " [ 0.70710678  0.83205029]]\n"
          ],
          "name": "stdout"
        }
      ]
    },
    {
      "cell_type": "markdown",
      "metadata": {
        "id": "nbeAsX8ZVxu6"
      },
      "source": [
        "**Q5**"
      ]
    },
    {
      "cell_type": "code",
      "metadata": {
        "colab": {
          "base_uri": "https://localhost:8080/"
        },
        "id": "TAP4hmtsVy6k",
        "outputId": "c94088bc-3963-4087-aa74-b1abc73c202a"
      },
      "source": [
        "from scipy import sparse\n",
        "from numpy import array\n",
        "I = array([0,3,1,0])\n",
        "J = array([0,3,1,2])\n",
        "V = array([4,5,7,9])\n",
        "A = sparse.coo_matrix((V,(I,J)),shape=(4,4)).tocsr()\n",
        "print(A)"
      ],
      "execution_count": 22,
      "outputs": [
        {
          "output_type": "stream",
          "text": [
            "  (0, 0)\t4\n",
            "  (0, 2)\t9\n",
            "  (1, 1)\t7\n",
            "  (3, 3)\t5\n"
          ],
          "name": "stdout"
        }
      ]
    }
  ]
}