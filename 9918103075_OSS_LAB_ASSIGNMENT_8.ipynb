{
  "nbformat": 4,
  "nbformat_minor": 0,
  "metadata": {
    "colab": {
      "name": "9918103075_OSS LAB ASSIGNMENT-8.ipynb",
      "provenance": [],
      "authorship_tag": "ABX9TyNwJQJxuenCU2GJD0w9niqk",
      "include_colab_link": true
    },
    "kernelspec": {
      "name": "python3",
      "display_name": "Python 3"
    },
    "language_info": {
      "name": "python"
    }
  },
  "cells": [
    {
      "cell_type": "markdown",
      "metadata": {
        "id": "view-in-github",
        "colab_type": "text"
      },
      "source": [
        "<a href=\"https://colab.research.google.com/github/lakshaynarula08/Open-Source-Software-Lab/blob/main/9918103075_OSS_LAB_ASSIGNMENT_8.ipynb\" target=\"_parent\"><img src=\"https://colab.research.google.com/assets/colab-badge.svg\" alt=\"Open In Colab\"/></a>"
      ]
    },
    {
      "cell_type": "code",
      "metadata": {
        "id": "qsYHsYG4YDAR"
      },
      "source": [
        "import pandas as pd\n",
        "import numpy as np\n",
        "import scipy as sp\n",
        "from scipy import sparse\n",
        "from sklearn.datasets import load_iris\n",
        "from scipy import stats\n",
        "from sklearn.model_selection import train_test_split\n",
        "from sklearn.neighbors import KNeighborsClassifier\n",
        "from sklearn.linear_model import LogisticRegression,LinearRegression\n",
        "from sklearn.metrics import accuracy_score,mean_squared_error\n",
        "import matplotlib.pyplot as plt\n",
        "from sklearn.datasets import load_boston\n",
        "from sklearn.svm import LinearSVC\n",
        "from sklearn.naive_bayes import GaussianNB\n",
        "\n",
        "plt.style.use(\"ggplot\")"
      ],
      "execution_count": 1,
      "outputs": []
    },
    {
      "cell_type": "code",
      "metadata": {
        "colab": {
          "base_uri": "https://localhost:8080/"
        },
        "id": "sWU7WZucYGVO",
        "outputId": "2849494b-dc59-4b76-b98f-1c8e646cedb5"
      },
      "source": [
        "ar= np.eye(5)\n",
        "ar"
      ],
      "execution_count": 2,
      "outputs": [
        {
          "output_type": "execute_result",
          "data": {
            "text/plain": [
              "array([[1., 0., 0., 0., 0.],\n",
              "       [0., 1., 0., 0., 0.],\n",
              "       [0., 0., 1., 0., 0.],\n",
              "       [0., 0., 0., 1., 0.],\n",
              "       [0., 0., 0., 0., 1.]])"
            ]
          },
          "metadata": {
            "tags": []
          },
          "execution_count": 2
        }
      ]
    },
    {
      "cell_type": "code",
      "metadata": {
        "colab": {
          "base_uri": "https://localhost:8080/"
        },
        "id": "Wts8-1LdYHv6",
        "outputId": "4fa7e7f6-935a-4f88-ad8d-c1bd2812e48d"
      },
      "source": [
        "s = sparse.csr_matrix(ar)\n",
        "s"
      ],
      "execution_count": 4,
      "outputs": [
        {
          "output_type": "execute_result",
          "data": {
            "text/plain": [
              "<5x5 sparse matrix of type '<class 'numpy.float64'>'\n",
              "\twith 5 stored elements in Compressed Sparse Row format>"
            ]
          },
          "metadata": {
            "tags": []
          },
          "execution_count": 4
        }
      ]
    },
    {
      "cell_type": "code",
      "metadata": {
        "colab": {
          "base_uri": "https://localhost:8080/"
        },
        "id": "v76LuMgTYQb1",
        "outputId": "30bd908f-3ebe-4fb1-e5a8-2faff70f17d7"
      },
      "source": [
        "iris=load_iris()\n",
        "data=iris['data']\n",
        "y=iris['target']\n",
        "data"
      ],
      "execution_count": 7,
      "outputs": [
        {
          "output_type": "execute_result",
          "data": {
            "text/plain": [
              "array([[5.1, 3.5, 1.4, 0.2],\n",
              "       [4.9, 3. , 1.4, 0.2],\n",
              "       [4.7, 3.2, 1.3, 0.2],\n",
              "       [4.6, 3.1, 1.5, 0.2],\n",
              "       [5. , 3.6, 1.4, 0.2],\n",
              "       [5.4, 3.9, 1.7, 0.4],\n",
              "       [4.6, 3.4, 1.4, 0.3],\n",
              "       [5. , 3.4, 1.5, 0.2],\n",
              "       [4.4, 2.9, 1.4, 0.2],\n",
              "       [4.9, 3.1, 1.5, 0.1],\n",
              "       [5.4, 3.7, 1.5, 0.2],\n",
              "       [4.8, 3.4, 1.6, 0.2],\n",
              "       [4.8, 3. , 1.4, 0.1],\n",
              "       [4.3, 3. , 1.1, 0.1],\n",
              "       [5.8, 4. , 1.2, 0.2],\n",
              "       [5.7, 4.4, 1.5, 0.4],\n",
              "       [5.4, 3.9, 1.3, 0.4],\n",
              "       [5.1, 3.5, 1.4, 0.3],\n",
              "       [5.7, 3.8, 1.7, 0.3],\n",
              "       [5.1, 3.8, 1.5, 0.3],\n",
              "       [5.4, 3.4, 1.7, 0.2],\n",
              "       [5.1, 3.7, 1.5, 0.4],\n",
              "       [4.6, 3.6, 1. , 0.2],\n",
              "       [5.1, 3.3, 1.7, 0.5],\n",
              "       [4.8, 3.4, 1.9, 0.2],\n",
              "       [5. , 3. , 1.6, 0.2],\n",
              "       [5. , 3.4, 1.6, 0.4],\n",
              "       [5.2, 3.5, 1.5, 0.2],\n",
              "       [5.2, 3.4, 1.4, 0.2],\n",
              "       [4.7, 3.2, 1.6, 0.2],\n",
              "       [4.8, 3.1, 1.6, 0.2],\n",
              "       [5.4, 3.4, 1.5, 0.4],\n",
              "       [5.2, 4.1, 1.5, 0.1],\n",
              "       [5.5, 4.2, 1.4, 0.2],\n",
              "       [4.9, 3.1, 1.5, 0.2],\n",
              "       [5. , 3.2, 1.2, 0.2],\n",
              "       [5.5, 3.5, 1.3, 0.2],\n",
              "       [4.9, 3.6, 1.4, 0.1],\n",
              "       [4.4, 3. , 1.3, 0.2],\n",
              "       [5.1, 3.4, 1.5, 0.2],\n",
              "       [5. , 3.5, 1.3, 0.3],\n",
              "       [4.5, 2.3, 1.3, 0.3],\n",
              "       [4.4, 3.2, 1.3, 0.2],\n",
              "       [5. , 3.5, 1.6, 0.6],\n",
              "       [5.1, 3.8, 1.9, 0.4],\n",
              "       [4.8, 3. , 1.4, 0.3],\n",
              "       [5.1, 3.8, 1.6, 0.2],\n",
              "       [4.6, 3.2, 1.4, 0.2],\n",
              "       [5.3, 3.7, 1.5, 0.2],\n",
              "       [5. , 3.3, 1.4, 0.2],\n",
              "       [7. , 3.2, 4.7, 1.4],\n",
              "       [6.4, 3.2, 4.5, 1.5],\n",
              "       [6.9, 3.1, 4.9, 1.5],\n",
              "       [5.5, 2.3, 4. , 1.3],\n",
              "       [6.5, 2.8, 4.6, 1.5],\n",
              "       [5.7, 2.8, 4.5, 1.3],\n",
              "       [6.3, 3.3, 4.7, 1.6],\n",
              "       [4.9, 2.4, 3.3, 1. ],\n",
              "       [6.6, 2.9, 4.6, 1.3],\n",
              "       [5.2, 2.7, 3.9, 1.4],\n",
              "       [5. , 2. , 3.5, 1. ],\n",
              "       [5.9, 3. , 4.2, 1.5],\n",
              "       [6. , 2.2, 4. , 1. ],\n",
              "       [6.1, 2.9, 4.7, 1.4],\n",
              "       [5.6, 2.9, 3.6, 1.3],\n",
              "       [6.7, 3.1, 4.4, 1.4],\n",
              "       [5.6, 3. , 4.5, 1.5],\n",
              "       [5.8, 2.7, 4.1, 1. ],\n",
              "       [6.2, 2.2, 4.5, 1.5],\n",
              "       [5.6, 2.5, 3.9, 1.1],\n",
              "       [5.9, 3.2, 4.8, 1.8],\n",
              "       [6.1, 2.8, 4. , 1.3],\n",
              "       [6.3, 2.5, 4.9, 1.5],\n",
              "       [6.1, 2.8, 4.7, 1.2],\n",
              "       [6.4, 2.9, 4.3, 1.3],\n",
              "       [6.6, 3. , 4.4, 1.4],\n",
              "       [6.8, 2.8, 4.8, 1.4],\n",
              "       [6.7, 3. , 5. , 1.7],\n",
              "       [6. , 2.9, 4.5, 1.5],\n",
              "       [5.7, 2.6, 3.5, 1. ],\n",
              "       [5.5, 2.4, 3.8, 1.1],\n",
              "       [5.5, 2.4, 3.7, 1. ],\n",
              "       [5.8, 2.7, 3.9, 1.2],\n",
              "       [6. , 2.7, 5.1, 1.6],\n",
              "       [5.4, 3. , 4.5, 1.5],\n",
              "       [6. , 3.4, 4.5, 1.6],\n",
              "       [6.7, 3.1, 4.7, 1.5],\n",
              "       [6.3, 2.3, 4.4, 1.3],\n",
              "       [5.6, 3. , 4.1, 1.3],\n",
              "       [5.5, 2.5, 4. , 1.3],\n",
              "       [5.5, 2.6, 4.4, 1.2],\n",
              "       [6.1, 3. , 4.6, 1.4],\n",
              "       [5.8, 2.6, 4. , 1.2],\n",
              "       [5. , 2.3, 3.3, 1. ],\n",
              "       [5.6, 2.7, 4.2, 1.3],\n",
              "       [5.7, 3. , 4.2, 1.2],\n",
              "       [5.7, 2.9, 4.2, 1.3],\n",
              "       [6.2, 2.9, 4.3, 1.3],\n",
              "       [5.1, 2.5, 3. , 1.1],\n",
              "       [5.7, 2.8, 4.1, 1.3],\n",
              "       [6.3, 3.3, 6. , 2.5],\n",
              "       [5.8, 2.7, 5.1, 1.9],\n",
              "       [7.1, 3. , 5.9, 2.1],\n",
              "       [6.3, 2.9, 5.6, 1.8],\n",
              "       [6.5, 3. , 5.8, 2.2],\n",
              "       [7.6, 3. , 6.6, 2.1],\n",
              "       [4.9, 2.5, 4.5, 1.7],\n",
              "       [7.3, 2.9, 6.3, 1.8],\n",
              "       [6.7, 2.5, 5.8, 1.8],\n",
              "       [7.2, 3.6, 6.1, 2.5],\n",
              "       [6.5, 3.2, 5.1, 2. ],\n",
              "       [6.4, 2.7, 5.3, 1.9],\n",
              "       [6.8, 3. , 5.5, 2.1],\n",
              "       [5.7, 2.5, 5. , 2. ],\n",
              "       [5.8, 2.8, 5.1, 2.4],\n",
              "       [6.4, 3.2, 5.3, 2.3],\n",
              "       [6.5, 3. , 5.5, 1.8],\n",
              "       [7.7, 3.8, 6.7, 2.2],\n",
              "       [7.7, 2.6, 6.9, 2.3],\n",
              "       [6. , 2.2, 5. , 1.5],\n",
              "       [6.9, 3.2, 5.7, 2.3],\n",
              "       [5.6, 2.8, 4.9, 2. ],\n",
              "       [7.7, 2.8, 6.7, 2. ],\n",
              "       [6.3, 2.7, 4.9, 1.8],\n",
              "       [6.7, 3.3, 5.7, 2.1],\n",
              "       [7.2, 3.2, 6. , 1.8],\n",
              "       [6.2, 2.8, 4.8, 1.8],\n",
              "       [6.1, 3. , 4.9, 1.8],\n",
              "       [6.4, 2.8, 5.6, 2.1],\n",
              "       [7.2, 3. , 5.8, 1.6],\n",
              "       [7.4, 2.8, 6.1, 1.9],\n",
              "       [7.9, 3.8, 6.4, 2. ],\n",
              "       [6.4, 2.8, 5.6, 2.2],\n",
              "       [6.3, 2.8, 5.1, 1.5],\n",
              "       [6.1, 2.6, 5.6, 1.4],\n",
              "       [7.7, 3. , 6.1, 2.3],\n",
              "       [6.3, 3.4, 5.6, 2.4],\n",
              "       [6.4, 3.1, 5.5, 1.8],\n",
              "       [6. , 3. , 4.8, 1.8],\n",
              "       [6.9, 3.1, 5.4, 2.1],\n",
              "       [6.7, 3.1, 5.6, 2.4],\n",
              "       [6.9, 3.1, 5.1, 2.3],\n",
              "       [5.8, 2.7, 5.1, 1.9],\n",
              "       [6.8, 3.2, 5.9, 2.3],\n",
              "       [6.7, 3.3, 5.7, 2.5],\n",
              "       [6.7, 3. , 5.2, 2.3],\n",
              "       [6.3, 2.5, 5. , 1.9],\n",
              "       [6.5, 3. , 5.2, 2. ],\n",
              "       [6.2, 3.4, 5.4, 2.3],\n",
              "       [5.9, 3. , 5.1, 1.8]])"
            ]
          },
          "metadata": {
            "tags": []
          },
          "execution_count": 7
        }
      ]
    },
    {
      "cell_type": "code",
      "metadata": {
        "colab": {
          "base_uri": "https://localhost:8080/"
        },
        "id": "gq1OPdUOYh_p",
        "outputId": "0567628d-a9f8-407a-832b-8965025093c9"
      },
      "source": [
        "print(\"Percentage \", stats.percentileofscore(data,3))\n",
        "print(\"Average/Mean \",sp.mean(data))\n",
        "print(\"S.D. \",stats.tstd(data))"
      ],
      "execution_count": 9,
      "outputs": [
        {
          "output_type": "stream",
          "text": [
            "Percentage  180.66666666666666\n",
            "Average/Mean  3.4644999999999997\n",
            "S.D.  [0.82806613 0.43586628 1.76529823 0.76223767]\n"
          ],
          "name": "stdout"
        },
        {
          "output_type": "stream",
          "text": [
            "/usr/local/lib/python3.7/dist-packages/ipykernel_launcher.py:2: DeprecationWarning: scipy.mean is deprecated and will be removed in SciPy 2.0.0, use numpy.mean instead\n",
            "  \n"
          ],
          "name": "stderr"
        }
      ]
    },
    {
      "cell_type": "code",
      "metadata": {
        "id": "L05fIflfYvAI"
      },
      "source": [
        "x_train,x_test=train_test_split(data,test_size=0.3)\n"
      ],
      "execution_count": 10,
      "outputs": []
    },
    {
      "cell_type": "code",
      "metadata": {
        "colab": {
          "base_uri": "https://localhost:8080/"
        },
        "id": "ACyNLFr5Yw6_",
        "outputId": "a956950e-4e15-495e-99b2-2edfd8722e22"
      },
      "source": [
        "x_train\n"
      ],
      "execution_count": 11,
      "outputs": [
        {
          "output_type": "execute_result",
          "data": {
            "text/plain": [
              "array([[5.2, 3.4, 1.4, 0.2],\n",
              "       [4.4, 3. , 1.3, 0.2],\n",
              "       [6.5, 3. , 5.2, 2. ],\n",
              "       [4.5, 2.3, 1.3, 0.3],\n",
              "       [5.9, 3. , 5.1, 1.8],\n",
              "       [7.7, 2.6, 6.9, 2.3],\n",
              "       [6.3, 2.7, 4.9, 1.8],\n",
              "       [7.6, 3. , 6.6, 2.1],\n",
              "       [4.9, 3.1, 1.5, 0.1],\n",
              "       [5.4, 3.9, 1.3, 0.4],\n",
              "       [5.6, 2.7, 4.2, 1.3],\n",
              "       [6.3, 2.9, 5.6, 1.8],\n",
              "       [6.5, 3. , 5.5, 1.8],\n",
              "       [5.3, 3.7, 1.5, 0.2],\n",
              "       [5.8, 2.7, 5.1, 1.9],\n",
              "       [4.8, 3. , 1.4, 0.3],\n",
              "       [5.6, 3. , 4.5, 1.5],\n",
              "       [4.8, 3.4, 1.6, 0.2],\n",
              "       [6.5, 2.8, 4.6, 1.5],\n",
              "       [4.7, 3.2, 1.3, 0.2],\n",
              "       [6.7, 3. , 5. , 1.7],\n",
              "       [6.4, 2.9, 4.3, 1.3],\n",
              "       [6.3, 2.5, 5. , 1.9],\n",
              "       [6.4, 2.8, 5.6, 2.1],\n",
              "       [5.7, 4.4, 1.5, 0.4],\n",
              "       [6. , 2.9, 4.5, 1.5],\n",
              "       [5.6, 2.5, 3.9, 1.1],\n",
              "       [7.7, 2.8, 6.7, 2. ],\n",
              "       [5.1, 3.7, 1.5, 0.4],\n",
              "       [4.8, 3.4, 1.9, 0.2],\n",
              "       [6.1, 2.8, 4. , 1.3],\n",
              "       [7.9, 3.8, 6.4, 2. ],\n",
              "       [6.7, 3.1, 4.7, 1.5],\n",
              "       [5.4, 3.4, 1.5, 0.4],\n",
              "       [6.6, 2.9, 4.6, 1.3],\n",
              "       [5.5, 3.5, 1.3, 0.2],\n",
              "       [6.7, 3.3, 5.7, 2.5],\n",
              "       [6.9, 3.1, 5.1, 2.3],\n",
              "       [5.5, 2.6, 4.4, 1.2],\n",
              "       [7.2, 3. , 5.8, 1.6],\n",
              "       [7. , 3.2, 4.7, 1.4],\n",
              "       [6.2, 2.2, 4.5, 1.5],\n",
              "       [6.7, 2.5, 5.8, 1.8],\n",
              "       [6. , 2.7, 5.1, 1.6],\n",
              "       [4.6, 3.6, 1. , 0.2],\n",
              "       [5.1, 3.3, 1.7, 0.5],\n",
              "       [5.1, 3.8, 1.9, 0.4],\n",
              "       [5.8, 2.8, 5.1, 2.4],\n",
              "       [6.3, 2.8, 5.1, 1.5],\n",
              "       [4.9, 3. , 1.4, 0.2],\n",
              "       [6.4, 3.2, 4.5, 1.5],\n",
              "       [7.2, 3.2, 6. , 1.8],\n",
              "       [6.2, 2.8, 4.8, 1.8],\n",
              "       [7.2, 3.6, 6.1, 2.5],\n",
              "       [5. , 3.4, 1.6, 0.4],\n",
              "       [6. , 2.2, 5. , 1.5],\n",
              "       [5. , 2. , 3.5, 1. ],\n",
              "       [6.7, 3.1, 4.4, 1.4],\n",
              "       [5. , 3.2, 1.2, 0.2],\n",
              "       [6.5, 3. , 5.8, 2.2],\n",
              "       [4.4, 3.2, 1.3, 0.2],\n",
              "       [5.6, 2.9, 3.6, 1.3],\n",
              "       [5. , 3.6, 1.4, 0.2],\n",
              "       [6.3, 3.4, 5.6, 2.4],\n",
              "       [5.4, 3. , 4.5, 1.5],\n",
              "       [6.4, 3.1, 5.5, 1.8],\n",
              "       [5.9, 3. , 4.2, 1.5],\n",
              "       [6.9, 3.1, 4.9, 1.5],\n",
              "       [5.4, 3.9, 1.7, 0.4],\n",
              "       [6.1, 3. , 4.9, 1.8],\n",
              "       [5.5, 2.5, 4. , 1.3],\n",
              "       [6. , 3. , 4.8, 1.8],\n",
              "       [6. , 2.2, 4. , 1. ],\n",
              "       [6.3, 2.3, 4.4, 1.3],\n",
              "       [6.3, 3.3, 4.7, 1.6],\n",
              "       [6.7, 3.1, 5.6, 2.4],\n",
              "       [6.5, 3.2, 5.1, 2. ],\n",
              "       [6.4, 3.2, 5.3, 2.3],\n",
              "       [5.5, 2.4, 3.7, 1. ],\n",
              "       [4.6, 3.1, 1.5, 0.2],\n",
              "       [6.1, 2.8, 4.7, 1.2],\n",
              "       [4.9, 2.4, 3.3, 1. ],\n",
              "       [6.1, 2.6, 5.6, 1.4],\n",
              "       [6.3, 3.3, 6. , 2.5],\n",
              "       [5. , 3.5, 1.6, 0.6],\n",
              "       [6.1, 3. , 4.6, 1.4],\n",
              "       [6.7, 3.3, 5.7, 2.1],\n",
              "       [4.8, 3. , 1.4, 0.1],\n",
              "       [4.9, 2.5, 4.5, 1.7],\n",
              "       [5.1, 3.5, 1.4, 0.3],\n",
              "       [4.6, 3.4, 1.4, 0.3],\n",
              "       [5.2, 3.5, 1.5, 0.2],\n",
              "       [5. , 3.4, 1.5, 0.2],\n",
              "       [7.7, 3.8, 6.7, 2.2],\n",
              "       [5.1, 3.8, 1.6, 0.2],\n",
              "       [5.2, 2.7, 3.9, 1.4],\n",
              "       [6.6, 3. , 4.4, 1.4],\n",
              "       [5.8, 2.6, 4. , 1.2],\n",
              "       [5. , 2.3, 3.3, 1. ],\n",
              "       [5.5, 4.2, 1.4, 0.2],\n",
              "       [5.5, 2.3, 4. , 1.3],\n",
              "       [6.7, 3. , 5.2, 2.3],\n",
              "       [5.8, 4. , 1.2, 0.2],\n",
              "       [6.2, 3.4, 5.4, 2.3],\n",
              "       [5.2, 4.1, 1.5, 0.1]])"
            ]
          },
          "metadata": {
            "tags": []
          },
          "execution_count": 11
        }
      ]
    },
    {
      "cell_type": "code",
      "metadata": {
        "colab": {
          "base_uri": "https://localhost:8080/"
        },
        "id": "xGbBGjubYxwG",
        "outputId": "16eb50c8-d648-44dc-f76b-096ff2f4b4e8"
      },
      "source": [
        "x_test"
      ],
      "execution_count": 12,
      "outputs": [
        {
          "output_type": "execute_result",
          "data": {
            "text/plain": [
              "array([[5. , 3.3, 1.4, 0.2],\n",
              "       [6.1, 2.9, 4.7, 1.4],\n",
              "       [6. , 3.4, 4.5, 1.6],\n",
              "       [6.9, 3.1, 5.4, 2.1],\n",
              "       [4.4, 2.9, 1.4, 0.2],\n",
              "       [7.4, 2.8, 6.1, 1.9],\n",
              "       [5.8, 2.7, 4.1, 1. ],\n",
              "       [5.1, 3.4, 1.5, 0.2],\n",
              "       [6.3, 2.5, 4.9, 1.5],\n",
              "       [6.8, 3. , 5.5, 2.1],\n",
              "       [5.8, 2.7, 5.1, 1.9],\n",
              "       [6.9, 3.2, 5.7, 2.3],\n",
              "       [7.3, 2.9, 6.3, 1.8],\n",
              "       [5.8, 2.7, 3.9, 1.2],\n",
              "       [4.9, 3.1, 1.5, 0.2],\n",
              "       [5.6, 3. , 4.1, 1.3],\n",
              "       [5.1, 2.5, 3. , 1.1],\n",
              "       [6.4, 2.8, 5.6, 2.2],\n",
              "       [5. , 3. , 1.6, 0.2],\n",
              "       [5.7, 2.9, 4.2, 1.3],\n",
              "       [7.7, 3. , 6.1, 2.3],\n",
              "       [6.8, 2.8, 4.8, 1.4],\n",
              "       [5.1, 3.8, 1.5, 0.3],\n",
              "       [5.7, 2.6, 3.5, 1. ],\n",
              "       [6.8, 3.2, 5.9, 2.3],\n",
              "       [7.1, 3. , 5.9, 2.1],\n",
              "       [5.9, 3.2, 4.8, 1.8],\n",
              "       [4.8, 3.1, 1.6, 0.2],\n",
              "       [4.3, 3. , 1.1, 0.1],\n",
              "       [5. , 3.5, 1.3, 0.3],\n",
              "       [5.7, 2.8, 4.5, 1.3],\n",
              "       [5.7, 3. , 4.2, 1.2],\n",
              "       [6.2, 2.9, 4.3, 1.3],\n",
              "       [4.6, 3.2, 1.4, 0.2],\n",
              "       [5.4, 3.4, 1.7, 0.2],\n",
              "       [4.9, 3.6, 1.4, 0.1],\n",
              "       [6.4, 2.7, 5.3, 1.9],\n",
              "       [5.6, 2.8, 4.9, 2. ],\n",
              "       [4.7, 3.2, 1.6, 0.2],\n",
              "       [5.7, 2.8, 4.1, 1.3],\n",
              "       [5.5, 2.4, 3.8, 1.1],\n",
              "       [5.1, 3.5, 1.4, 0.2],\n",
              "       [5.7, 2.5, 5. , 2. ],\n",
              "       [5.7, 3.8, 1.7, 0.3],\n",
              "       [5.4, 3.7, 1.5, 0.2]])"
            ]
          },
          "metadata": {
            "tags": []
          },
          "execution_count": 12
        }
      ]
    },
    {
      "cell_type": "code",
      "metadata": {
        "id": "1tU1PSltY0mg"
      },
      "source": [
        "x_train,x_test,y_train,y_test= train_test_split(data,y,test_size=0.2)"
      ],
      "execution_count": 14,
      "outputs": []
    },
    {
      "cell_type": "code",
      "metadata": {
        "colab": {
          "base_uri": "https://localhost:8080/",
          "height": 282
        },
        "id": "BYr7Z46iY5Kh",
        "outputId": "0c5526e2-68bf-4fc1-dfec-1b8fa7bdb88e"
      },
      "source": [
        "acc=[]\n",
        "for i in range(1,10):\n",
        "    neigh = KNeighborsClassifier(n_neighbors=i)\n",
        "    neigh.fit(x_train,y_train)\n",
        "    ypred=neigh.predict(x_test)\n",
        "    acc.append(accuracy_score(ypred,y_test))\n",
        "\n",
        "plt.plot([1,2,3,4,5,6,7,8,9],acc)\n",
        "print(acc)"
      ],
      "execution_count": 15,
      "outputs": [
        {
          "output_type": "stream",
          "text": [
            "[1.0, 0.9666666666666667, 1.0, 1.0, 1.0, 1.0, 1.0, 0.9666666666666667, 0.9666666666666667]\n"
          ],
          "name": "stdout"
        },
        {
          "output_type": "display_data",
          "data": {
            "image/png": "[encoded data removed]",
            "text/plain": [
              "<Figure size 432x288 with 1 Axes>"
            ]
          },
          "metadata": {
            "tags": [],
            "needs_background": "light"
          }
        }
      ]
    },
    {
      "cell_type": "code",
      "metadata": {
        "colab": {
          "base_uri": "https://localhost:8080/"
        },
        "id": "eWuc_7ysY5zz",
        "outputId": "af6cee26-62ef-4668-e543-eba137123d89"
      },
      "source": [
        "model=LogisticRegression()\n",
        "model.fit(x_train,y_train)\n",
        "ypred=model.predict(x_test)\n",
        "print(\"accuracy for logistic regression :\",accuracy_score(ypred,y_test))"
      ],
      "execution_count": 16,
      "outputs": [
        {
          "output_type": "stream",
          "text": [
            "accuracy for logistic regression : 1.0\n"
          ],
          "name": "stdout"
        },
        {
          "output_type": "stream",
          "text": [
            "/usr/local/lib/python3.7/dist-packages/sklearn/linear_model/_logistic.py:940: ConvergenceWarning: lbfgs failed to converge (status=1):\n",
            "STOP: TOTAL NO. of ITERATIONS REACHED LIMIT.\n",
            "\n",
            "Increase the number of iterations (max_iter) or scale the data as shown in:\n",
            "    https://scikit-learn.org/stable/modules/preprocessing.html\n",
            "Please also refer to the documentation for alternative solver options:\n",
            "    https://scikit-learn.org/stable/modules/linear_model.html#logistic-regression\n",
            "  extra_warning_msg=_LOGISTIC_SOLVER_CONVERGENCE_MSG)\n"
          ],
          "name": "stderr"
        }
      ]
    },
    {
      "cell_type": "code",
      "metadata": {
        "colab": {
          "base_uri": "https://localhost:8080/"
        },
        "id": "lIXDax5WY8l_",
        "outputId": "7870902c-a291-495f-c2ae-7a7c29631586"
      },
      "source": [
        "svm_model= LinearSVC()\n",
        "svm_model.fit(x_train,y_train)\n",
        "ypred= svm_model.predict(x_test)\n",
        "print(\"accuracy :\",accuracy_score(ypred,y_test))"
      ],
      "execution_count": 18,
      "outputs": [
        {
          "output_type": "stream",
          "text": [
            "accuracy : 1.0\n"
          ],
          "name": "stdout"
        },
        {
          "output_type": "stream",
          "text": [
            "/usr/local/lib/python3.7/dist-packages/sklearn/svm/_base.py:947: ConvergenceWarning: Liblinear failed to converge, increase the number of iterations.\n",
            "  \"the number of iterations.\", ConvergenceWarning)\n"
          ],
          "name": "stderr"
        }
      ]
    },
    {
      "cell_type": "code",
      "metadata": {
        "colab": {
          "base_uri": "https://localhost:8080/"
        },
        "id": "sfiNGol5ZFei",
        "outputId": "d6b64ee9-5c30-4584-d462-beaf58cbac87"
      },
      "source": [
        "naive= GaussianNB()\n",
        "nmodel= naive.fit(x_train,y_train)\n",
        "ypred= naive.predict(x_test)\n",
        "print(\"naive model accuracy : \",accuracy_score(ypred,y_test))"
      ],
      "execution_count": 19,
      "outputs": [
        {
          "output_type": "stream",
          "text": [
            "naive model accuracy :  1.0\n"
          ],
          "name": "stdout"
        }
      ]
    },
    {
      "cell_type": "code",
      "metadata": {
        "id": "a7JBDoioZNt3"
      },
      "source": [
        "boston_dataset = load_boston()\n",
        "data=boston_dataset['data']\n",
        "y=boston_dataset['target']"
      ],
      "execution_count": 20,
      "outputs": []
    },
    {
      "cell_type": "code",
      "metadata": {
        "id": "IyrFZ1llZQEb"
      },
      "source": [
        "x_train,x_test,y_train,y_test= train_test_split(data,y,test_size=0.3)"
      ],
      "execution_count": 21,
      "outputs": []
    },
    {
      "cell_type": "code",
      "metadata": {
        "colab": {
          "base_uri": "https://localhost:8080/"
        },
        "id": "XIHXb10xZSEd",
        "outputId": "59acf607-e701-4c42-ab93-5b5f363d68ed"
      },
      "source": [
        "model=LinearRegression()\n",
        "model.fit(x_train,y_train)\n",
        "ypred=model.predict(x_test)\n",
        "print(\"deviation \",mean_squared_error(ypred,y_test))"
      ],
      "execution_count": 22,
      "outputs": [
        {
          "output_type": "stream",
          "text": [
            "deviation  21.803574111376737\n"
          ],
          "name": "stdout"
        }
      ]
    },
    {
      "cell_type": "code",
      "metadata": {
        "id": "xUvtxJTVZT2L"
      },
      "source": [
        ""
      ],
      "execution_count": null,
      "outputs": []
    }
  ]
}